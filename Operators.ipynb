{
 "cells": [
  {
   "cell_type": "markdown",
   "id": "d445c213",
   "metadata": {},
   "source": [
    "# OPERATORS:-\n",
    "\n",
    "Operators in general are used to perform certain operations on values and variables.\n",
    "\n",
    "Types of Operators in Python\n",
    "\n",
    "1. Arithmetic Operators\n",
    "2. Comparison Operators\n",
    "3. Logical Operators\n",
    "4. Bitwise Operators\n",
    "5. Assignment Operators\n",
    "6. Identity Operators and Membership Operators"
   ]
  },
  {
   "cell_type": "markdown",
   "id": "79e9b3bc",
   "metadata": {},
   "source": [
    "# 1.Arithmetic Operators:-\n",
    "\n",
    "Arithmetic Operators are used to perform mathematical operations like addition, subtraction, multiplication, and division."
   ]
  },
  {
   "cell_type": "code",
   "execution_count": 5,
   "id": "d50c6e3b",
   "metadata": {},
   "outputs": [
    {
     "name": "stdout",
     "output_type": "stream",
     "text": [
      "30\n",
      "200\n",
      "0.5\n",
      "0\n",
      "10\n",
      "4\n"
     ]
    }
   ],
   "source": [
    "a=10\n",
    "b=20\n",
    "print(a+b)\n",
    "print(a*b)\n",
    "print(a/b)\n",
    "print(a//b)\n",
    "print(a%b)\n",
    "print(2**2)"
   ]
  },
  {
   "cell_type": "markdown",
   "id": "2833228c",
   "metadata": {},
   "source": [
    "# 2.Comparison Operators:-\n",
    "\n",
    "Relational operators are used for comparing the values. It either returns True or False according to the condition. These operators are also known as Comparison Operators"
   ]
  },
  {
   "cell_type": "code",
   "execution_count": 6,
   "id": "f509e064",
   "metadata": {},
   "outputs": [
    {
     "name": "stdout",
     "output_type": "stream",
     "text": [
      "False\n",
      "True\n",
      "True\n"
     ]
    }
   ],
   "source": [
    "a = 100\n",
    "b = 200\n",
    "\n",
    "print(a>b)\n",
    "print(a<b)\n",
    "print(a!=b)"
   ]
  },
  {
   "cell_type": "markdown",
   "id": "17e6f720",
   "metadata": {},
   "source": [
    "# 3.Logical Operators:-\n",
    "\n",
    "In Python, Logical operators are used on conditional statements to check whether the statements are either true or false\n",
    "\n",
    "1. and\n",
    "2. or\n",
    "3. not"
   ]
  },
  {
   "cell_type": "code",
   "execution_count": 10,
   "id": "02704873",
   "metadata": {},
   "outputs": [
    {
     "name": "stdout",
     "output_type": "stream",
     "text": [
      "And operator\n",
      "Or operator\n",
      "True\n",
      "Yes\n"
     ]
    }
   ],
   "source": [
    "a = 10\n",
    "b = 20\n",
    "\n",
    "if a!=b and a<b:\n",
    "    print(\"And operator\")\n",
    "if a==b or a<b:\n",
    "    print(\"Or operator\")\n",
    "    \n",
    "a = [1, 2, 3, 4, 5]\n",
    "\n",
    "if 6 not in a:\n",
    "    print(\"True\")\n",
    "if 1 in a:\n",
    "    print(\"Yes\")\n"
   ]
  },
  {
   "cell_type": "markdown",
   "id": "9139cc9c",
   "metadata": {},
   "source": [
    "# 4.Bitwise Operators:-\n",
    "\n",
    "In Python, bitwise operators are used to perform bitwise calculations on integers. Bitwise calculation means -> The integers are first converted into binary and then operations are performed on each bit or corresponding pair of bits, hence the name bitwise operators. The result is then returned in decimal format."
   ]
  },
  {
   "cell_type": "code",
   "execution_count": 19,
   "id": "d8b23b75",
   "metadata": {},
   "outputs": [
    {
     "name": "stdout",
     "output_type": "stream",
     "text": [
      "1\n",
      "7\n",
      "6\n",
      "-2\n",
      "5\n",
      "10\n"
     ]
    }
   ],
   "source": [
    "a = 5\n",
    "b = 3\n",
    "print(a & b)\n",
    "print(a | b)\n",
    "print(a ^ b)\n",
    "\n",
    "a = 1\n",
    "print(~a)\n",
    "\n",
    "a = 10\n",
    "print(a>>1)\n",
    "\n",
    "b = 5\n",
    "print(b<<1)"
   ]
  },
  {
   "cell_type": "markdown",
   "id": "7afd327d",
   "metadata": {},
   "source": [
    "Operator overloading allows you to define various operations for a specific operator depending on the types of operands involved"
   ]
  },
  {
   "cell_type": "markdown",
   "id": "ff1a0cb1",
   "metadata": {},
   "source": [
    "# 5.Assignment Operators:-\n",
    "\n",
    " Assignment Operators are used to assigning values to variables. \n",
    " \n",
    " 1. =\n",
    " 2. +=\n",
    " 3. -=\n",
    " 4. //=\n",
    " 5. *=\n",
    " 6. %="
   ]
  },
  {
   "cell_type": "markdown",
   "id": "c931aeea",
   "metadata": {},
   "source": [
    "# 6.Membership and Identity Operators:-\n",
    "\n",
    "->Python offers two membership operators.\n",
    "\n",
    "1. in operator -> is used to check if a character/ substring/ element exists in a sequence or not.\n",
    "2. not in operator -> Evaluates to true if it does not finds a variable in the specified sequence and false otherwise."
   ]
  },
  {
   "cell_type": "code",
   "execution_count": 22,
   "id": "753b560d",
   "metadata": {},
   "outputs": [
    {
     "name": "stdout",
     "output_type": "stream",
     "text": [
      "1 No\n",
      "2 Yes\n",
      "3 Yes\n",
      "4 Yes\n",
      "5 Yes\n"
     ]
    }
   ],
   "source": [
    "a = [1, 2, 3, 4, 5]\n",
    "b = [0, 2, 3, 4, 5]\n",
    "for i in a:\n",
    "    if i in b:\n",
    "        print(f'{i} Yes')\n",
    "    else:\n",
    "        print(f'{i} No')\n",
    "        \n",
    "# not in"
   ]
  },
  {
   "cell_type": "markdown",
   "id": "3775cbfc",
   "metadata": {},
   "source": [
    "1. is\n",
    "2. is not"
   ]
  },
  {
   "cell_type": "code",
   "execution_count": 24,
   "id": "c067d62e",
   "metadata": {},
   "outputs": [
    {
     "name": "stdout",
     "output_type": "stream",
     "text": [
      "False\n",
      "True\n"
     ]
    }
   ],
   "source": [
    "list1 = [1, 2, 3]\n",
    "list2 = [1, 2, 3]\n",
    "\n",
    "\n",
    "print(list1 is list2)  \n",
    "\n",
    "\n",
    "print(list1 is not list2) "
   ]
  }
 ],
 "metadata": {
  "kernelspec": {
   "display_name": "Python 3 (ipykernel)",
   "language": "python",
   "name": "python3"
  },
  "language_info": {
   "codemirror_mode": {
    "name": "ipython",
    "version": 3
   },
   "file_extension": ".py",
   "mimetype": "text/x-python",
   "name": "python",
   "nbconvert_exporter": "python",
   "pygments_lexer": "ipython3",
   "version": "3.11.5"
  }
 },
 "nbformat": 4,
 "nbformat_minor": 5
}
